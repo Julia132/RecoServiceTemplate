{
 "cells": [
  {
   "cell_type": "code",
   "execution_count": 1,
   "id": "d591ad1b",
   "metadata": {},
   "outputs": [],
   "source": [
    "import pandas as pd\n",
    "import numpy as np\n",
    "import requests\n",
    "from tqdm.auto import tqdm\n",
    "from scipy.stats import mode \n",
    "from pprint import pprint\n",
    "from implicit.nearest_neighbours import CosineRecommender, TFIDFRecommender\n",
    "import warnings\n",
    "warnings.filterwarnings(\"ignore\")\n",
    "import dill\n",
    "from rectools import Columns\n",
    "from rectools.dataset import Dataset\n",
    "from rectools.models import ImplicitItemKNNWrapperModel\n",
    "from userknn import UserKnn\n",
    "\n",
    "pd.set_option('display.max_columns', None)\n",
    "pd.set_option('display.max_colwidth', 200)"
   ]
  },
  {
   "cell_type": "markdown",
   "id": "539ac5f5",
   "metadata": {},
   "source": [
    "# Get KION dataset \n",
    "\n",
    "<a href=\"https://ods.ai/competitions/competition-recsys-21/data\"> Dataset description [ru] </a>\n"
   ]
  },
  {
   "cell_type": "code",
   "execution_count": 2,
   "id": "57d5ee2d",
   "metadata": {},
   "outputs": [
    {
     "data": {
      "application/vnd.jupyter.widget-view+json": {
       "model_id": "dfb35f9d4521487798221e707f7c9d4c",
       "version_major": 2,
       "version_minor": 0
      },
      "text/plain": [
       "kion dataset download:   0%|          | 0.00/78.8M [00:00<?, ?iB/s]"
      ]
     },
     "metadata": {},
     "output_type": "display_data"
    }
   ],
   "source": [
    "# download dataset by chunks\n",
    "url = \"https://storage.yandexcloud.net/itmo-recsys-public-data/kion_train.zip\"\n",
    "\n",
    "req = requests.get(url, stream=True)\n",
    "\n",
    "with open('kion_train.zip', \"wb\") as fd:\n",
    "    total_size_in_bytes = int(req.headers.get('Content-Length', 0))\n",
    "    progress_bar = tqdm(desc='kion dataset download', total=total_size_in_bytes, unit='iB', unit_scale=True)\n",
    "    for chunk in req.iter_content(chunk_size=2 ** 20):\n",
    "        progress_bar.update(len(chunk))\n",
    "        fd.write(chunk)"
   ]
  },
  {
   "cell_type": "code",
   "execution_count": 3,
   "id": "0171c545",
   "metadata": {},
   "outputs": [],
   "source": [
    "!unzip kion_train.zip"
   ]
  },
  {
   "cell_type": "markdown",
   "id": "1ab72bbd",
   "metadata": {},
   "source": [
    "# EDA"
   ]
  },
  {
   "cell_type": "code",
   "execution_count": 4,
   "id": "1f349c11",
   "metadata": {},
   "outputs": [],
   "source": [
    "# Загрузим наши данные.\n",
    "\n",
    "interactions = pd.read_csv('kion_train/interactions.csv')\n",
    "users = pd.read_csv('kion_train/users.csv')\n",
    "items = pd.read_csv('kion_train/items.csv')"
   ]
  },
  {
   "cell_type": "code",
   "execution_count": 5,
   "id": "90fe394f",
   "metadata": {},
   "outputs": [],
   "source": [
    "# Переименуем столбцы и сконвертируем столбец со временем.\n",
    "\n",
    "interactions.rename(columns={'last_watch_dt': Columns.Datetime,\n",
    "                            'total_dur': Columns.Weight}, \n",
    "                    inplace=True) \n",
    "\n",
    "interactions['datetime'] = pd.to_datetime(interactions['datetime'])"
   ]
  },
  {
   "cell_type": "markdown",
   "id": "a19cd6de",
   "metadata": {},
   "source": [
    "## interactions"
   ]
  },
  {
   "cell_type": "code",
   "execution_count": 6,
   "id": "f27d010e",
   "metadata": {},
   "outputs": [
    {
     "data": {
      "text/html": [
       "<div>\n",
       "<style scoped>\n",
       "    .dataframe tbody tr th:only-of-type {\n",
       "        vertical-align: middle;\n",
       "    }\n",
       "\n",
       "    .dataframe tbody tr th {\n",
       "        vertical-align: top;\n",
       "    }\n",
       "\n",
       "    .dataframe thead th {\n",
       "        text-align: right;\n",
       "    }\n",
       "</style>\n",
       "<table border=\"1\" class=\"dataframe\">\n",
       "  <thead>\n",
       "    <tr style=\"text-align: right;\">\n",
       "      <th></th>\n",
       "      <th>user_id</th>\n",
       "      <th>item_id</th>\n",
       "      <th>datetime</th>\n",
       "      <th>weight</th>\n",
       "      <th>watched_pct</th>\n",
       "    </tr>\n",
       "  </thead>\n",
       "  <tbody>\n",
       "    <tr>\n",
       "      <th>0</th>\n",
       "      <td>176549</td>\n",
       "      <td>9506</td>\n",
       "      <td>2021-05-11</td>\n",
       "      <td>4250</td>\n",
       "      <td>72.0</td>\n",
       "    </tr>\n",
       "    <tr>\n",
       "      <th>1</th>\n",
       "      <td>699317</td>\n",
       "      <td>1659</td>\n",
       "      <td>2021-05-29</td>\n",
       "      <td>8317</td>\n",
       "      <td>100.0</td>\n",
       "    </tr>\n",
       "    <tr>\n",
       "      <th>2</th>\n",
       "      <td>656683</td>\n",
       "      <td>7107</td>\n",
       "      <td>2021-05-09</td>\n",
       "      <td>10</td>\n",
       "      <td>0.0</td>\n",
       "    </tr>\n",
       "    <tr>\n",
       "      <th>3</th>\n",
       "      <td>864613</td>\n",
       "      <td>7638</td>\n",
       "      <td>2021-07-05</td>\n",
       "      <td>14483</td>\n",
       "      <td>100.0</td>\n",
       "    </tr>\n",
       "    <tr>\n",
       "      <th>4</th>\n",
       "      <td>964868</td>\n",
       "      <td>9506</td>\n",
       "      <td>2021-04-30</td>\n",
       "      <td>6725</td>\n",
       "      <td>100.0</td>\n",
       "    </tr>\n",
       "    <tr>\n",
       "      <th>5476246</th>\n",
       "      <td>648596</td>\n",
       "      <td>12225</td>\n",
       "      <td>2021-08-13</td>\n",
       "      <td>76</td>\n",
       "      <td>0.0</td>\n",
       "    </tr>\n",
       "    <tr>\n",
       "      <th>5476247</th>\n",
       "      <td>546862</td>\n",
       "      <td>9673</td>\n",
       "      <td>2021-04-13</td>\n",
       "      <td>2308</td>\n",
       "      <td>49.0</td>\n",
       "    </tr>\n",
       "    <tr>\n",
       "      <th>5476248</th>\n",
       "      <td>697262</td>\n",
       "      <td>15297</td>\n",
       "      <td>2021-08-20</td>\n",
       "      <td>18307</td>\n",
       "      <td>63.0</td>\n",
       "    </tr>\n",
       "    <tr>\n",
       "      <th>5476249</th>\n",
       "      <td>384202</td>\n",
       "      <td>16197</td>\n",
       "      <td>2021-04-19</td>\n",
       "      <td>6203</td>\n",
       "      <td>100.0</td>\n",
       "    </tr>\n",
       "    <tr>\n",
       "      <th>5476250</th>\n",
       "      <td>319709</td>\n",
       "      <td>4436</td>\n",
       "      <td>2021-08-15</td>\n",
       "      <td>3921</td>\n",
       "      <td>45.0</td>\n",
       "    </tr>\n",
       "  </tbody>\n",
       "</table>\n",
       "</div>"
      ],
      "text/plain": [
       "         user_id  item_id   datetime  weight  watched_pct\n",
       "0         176549     9506 2021-05-11    4250         72.0\n",
       "1         699317     1659 2021-05-29    8317        100.0\n",
       "2         656683     7107 2021-05-09      10          0.0\n",
       "3         864613     7638 2021-07-05   14483        100.0\n",
       "4         964868     9506 2021-04-30    6725        100.0\n",
       "5476246   648596    12225 2021-08-13      76          0.0\n",
       "5476247   546862     9673 2021-04-13    2308         49.0\n",
       "5476248   697262    15297 2021-08-20   18307         63.0\n",
       "5476249   384202    16197 2021-04-19    6203        100.0\n",
       "5476250   319709     4436 2021-08-15    3921         45.0"
      ]
     },
     "execution_count": 6,
     "metadata": {},
     "output_type": "execute_result"
    }
   ],
   "source": [
    "pd.concat([interactions.head(), interactions.tail()])"
   ]
  },
  {
   "cell_type": "code",
   "execution_count": 7,
   "id": "c23b431b",
   "metadata": {},
   "outputs": [
    {
     "name": "stdout",
     "output_type": "stream",
     "text": [
      "Interactions dataframe shape: (5476251, 5)\n",
      "Unique users in interactions: 962_179\n",
      "Unique items in interactions: 15_706\n"
     ]
    }
   ],
   "source": [
    "print(f\"Interactions dataframe shape: {interactions.shape}\")\n",
    "print(f\"Unique users in interactions: {interactions['user_id'].nunique():_}\")\n",
    "print(f\"Unique items in interactions: {interactions['item_id'].nunique():_}\")"
   ]
  },
  {
   "cell_type": "code",
   "execution_count": 8,
   "id": "71372764",
   "metadata": {},
   "outputs": [
    {
     "name": "stdout",
     "output_type": "stream",
     "text": [
      "min date in interactions: 2021-03-13 00:00:00\n",
      "max date in interactions: 2021-08-22 00:00:00\n"
     ]
    }
   ],
   "source": [
    "max_date = interactions['datetime'].max()\n",
    "min_date = interactions['datetime'].min()\n",
    "\n",
    "print(f\"min date in interactions: {min_date}\")\n",
    "print(f\"max date in interactions: {max_date}\")"
   ]
  },
  {
   "cell_type": "code",
   "execution_count": 9,
   "id": "af4008cf",
   "metadata": {},
   "outputs": [
    {
     "name": "stdout",
     "output_type": "stream",
     "text": [
      "<class 'pandas.core.frame.DataFrame'>\n",
      "RangeIndex: 5476251 entries, 0 to 5476250\n",
      "Data columns (total 5 columns):\n",
      " #   Column       Dtype         \n",
      "---  ------       -----         \n",
      " 0   user_id      int64         \n",
      " 1   item_id      int64         \n",
      " 2   datetime     datetime64[ns]\n",
      " 3   weight       int64         \n",
      " 4   watched_pct  float64       \n",
      "dtypes: datetime64[ns](1), float64(1), int64(3)\n",
      "memory usage: 208.9 MB\n"
     ]
    }
   ],
   "source": [
    "interactions.info()"
   ]
  },
  {
   "cell_type": "markdown",
   "id": "675295b6",
   "metadata": {},
   "source": [
    "## users"
   ]
  },
  {
   "cell_type": "code",
   "execution_count": 10,
   "id": "3ff572ff",
   "metadata": {},
   "outputs": [
    {
     "data": {
      "text/html": [
       "<div>\n",
       "<style scoped>\n",
       "    .dataframe tbody tr th:only-of-type {\n",
       "        vertical-align: middle;\n",
       "    }\n",
       "\n",
       "    .dataframe tbody tr th {\n",
       "        vertical-align: top;\n",
       "    }\n",
       "\n",
       "    .dataframe thead th {\n",
       "        text-align: right;\n",
       "    }\n",
       "</style>\n",
       "<table border=\"1\" class=\"dataframe\">\n",
       "  <thead>\n",
       "    <tr style=\"text-align: right;\">\n",
       "      <th></th>\n",
       "      <th>user_id</th>\n",
       "      <th>age</th>\n",
       "      <th>income</th>\n",
       "      <th>sex</th>\n",
       "      <th>kids_flg</th>\n",
       "    </tr>\n",
       "  </thead>\n",
       "  <tbody>\n",
       "    <tr>\n",
       "      <th>0</th>\n",
       "      <td>973171</td>\n",
       "      <td>age_25_34</td>\n",
       "      <td>income_60_90</td>\n",
       "      <td>М</td>\n",
       "      <td>1</td>\n",
       "    </tr>\n",
       "    <tr>\n",
       "      <th>1</th>\n",
       "      <td>962099</td>\n",
       "      <td>age_18_24</td>\n",
       "      <td>income_20_40</td>\n",
       "      <td>М</td>\n",
       "      <td>0</td>\n",
       "    </tr>\n",
       "    <tr>\n",
       "      <th>2</th>\n",
       "      <td>1047345</td>\n",
       "      <td>age_45_54</td>\n",
       "      <td>income_40_60</td>\n",
       "      <td>Ж</td>\n",
       "      <td>0</td>\n",
       "    </tr>\n",
       "    <tr>\n",
       "      <th>3</th>\n",
       "      <td>721985</td>\n",
       "      <td>age_45_54</td>\n",
       "      <td>income_20_40</td>\n",
       "      <td>Ж</td>\n",
       "      <td>0</td>\n",
       "    </tr>\n",
       "    <tr>\n",
       "      <th>4</th>\n",
       "      <td>704055</td>\n",
       "      <td>age_35_44</td>\n",
       "      <td>income_60_90</td>\n",
       "      <td>Ж</td>\n",
       "      <td>0</td>\n",
       "    </tr>\n",
       "    <tr>\n",
       "      <th>840192</th>\n",
       "      <td>339025</td>\n",
       "      <td>age_65_inf</td>\n",
       "      <td>income_0_20</td>\n",
       "      <td>Ж</td>\n",
       "      <td>0</td>\n",
       "    </tr>\n",
       "    <tr>\n",
       "      <th>840193</th>\n",
       "      <td>983617</td>\n",
       "      <td>age_18_24</td>\n",
       "      <td>income_20_40</td>\n",
       "      <td>Ж</td>\n",
       "      <td>1</td>\n",
       "    </tr>\n",
       "    <tr>\n",
       "      <th>840194</th>\n",
       "      <td>251008</td>\n",
       "      <td>NaN</td>\n",
       "      <td>NaN</td>\n",
       "      <td>NaN</td>\n",
       "      <td>0</td>\n",
       "    </tr>\n",
       "    <tr>\n",
       "      <th>840195</th>\n",
       "      <td>590706</td>\n",
       "      <td>NaN</td>\n",
       "      <td>NaN</td>\n",
       "      <td>Ж</td>\n",
       "      <td>0</td>\n",
       "    </tr>\n",
       "    <tr>\n",
       "      <th>840196</th>\n",
       "      <td>166555</td>\n",
       "      <td>age_65_inf</td>\n",
       "      <td>income_20_40</td>\n",
       "      <td>Ж</td>\n",
       "      <td>0</td>\n",
       "    </tr>\n",
       "  </tbody>\n",
       "</table>\n",
       "</div>"
      ],
      "text/plain": [
       "        user_id         age        income  sex  kids_flg\n",
       "0        973171   age_25_34  income_60_90    М         1\n",
       "1        962099   age_18_24  income_20_40    М         0\n",
       "2       1047345   age_45_54  income_40_60    Ж         0\n",
       "3        721985   age_45_54  income_20_40    Ж         0\n",
       "4        704055   age_35_44  income_60_90    Ж         0\n",
       "840192   339025  age_65_inf   income_0_20    Ж         0\n",
       "840193   983617   age_18_24  income_20_40    Ж         1\n",
       "840194   251008         NaN           NaN  NaN         0\n",
       "840195   590706         NaN           NaN    Ж         0\n",
       "840196   166555  age_65_inf  income_20_40    Ж         0"
      ]
     },
     "execution_count": 10,
     "metadata": {},
     "output_type": "execute_result"
    }
   ],
   "source": [
    "pd.concat([users.head(), users.tail()])"
   ]
  },
  {
   "cell_type": "code",
   "execution_count": 11,
   "id": "7b34baf4",
   "metadata": {},
   "outputs": [
    {
     "name": "stdout",
     "output_type": "stream",
     "text": [
      "Users dataframe shape (840197, 5)\n",
      "Unique users: 840_197\n"
     ]
    }
   ],
   "source": [
    "print(f\"Users dataframe shape {users.shape}\")\n",
    "print(f\"Unique users: {users['user_id'].nunique():_}\")"
   ]
  },
  {
   "cell_type": "markdown",
   "id": "b89ca7b2",
   "metadata": {},
   "source": [
    "## items"
   ]
  },
  {
   "cell_type": "code",
   "execution_count": 13,
   "id": "a289682c",
   "metadata": {},
   "outputs": [
    {
     "data": {
      "text/html": [
       "<div>\n",
       "<style scoped>\n",
       "    .dataframe tbody tr th:only-of-type {\n",
       "        vertical-align: middle;\n",
       "    }\n",
       "\n",
       "    .dataframe tbody tr th {\n",
       "        vertical-align: top;\n",
       "    }\n",
       "\n",
       "    .dataframe thead th {\n",
       "        text-align: right;\n",
       "    }\n",
       "</style>\n",
       "<table border=\"1\" class=\"dataframe\">\n",
       "  <thead>\n",
       "    <tr style=\"text-align: right;\">\n",
       "      <th></th>\n",
       "      <th>item_id</th>\n",
       "      <th>content_type</th>\n",
       "      <th>title</th>\n",
       "      <th>title_orig</th>\n",
       "      <th>release_year</th>\n",
       "      <th>genres</th>\n",
       "      <th>countries</th>\n",
       "      <th>for_kids</th>\n",
       "      <th>age_rating</th>\n",
       "      <th>studios</th>\n",
       "      <th>directors</th>\n",
       "      <th>actors</th>\n",
       "      <th>description</th>\n",
       "      <th>keywords</th>\n",
       "    </tr>\n",
       "  </thead>\n",
       "  <tbody>\n",
       "    <tr>\n",
       "      <th>0</th>\n",
       "      <td>10711</td>\n",
       "      <td>film</td>\n",
       "      <td>Поговори с ней</td>\n",
       "      <td>Hable con ella</td>\n",
       "      <td>2002.0</td>\n",
       "      <td>драмы, зарубежные, детективы, мелодрамы</td>\n",
       "      <td>Испания</td>\n",
       "      <td>NaN</td>\n",
       "      <td>16.0</td>\n",
       "      <td>NaN</td>\n",
       "      <td>Педро Альмодовар</td>\n",
       "      <td>Адольфо Фернандес, Ана Фернандес, Дарио Грандинетти, Джеральдин Чаплин, Елена Анайя, Каэтано Велозо, Леонор Уотлинг, Лола Дуэньяс, Лолес Леон, Малу Айродо, Мариола Фуэнтес, Пас Вега, Пина Бауш, Ро...</td>\n",
       "      <td>Мелодрама легендарного Педро Альмодовара «Поговори с ней» в 2003 году получила премию «Оскар» за лучший сценарий.  Журналист Марко берет интервью у знаменитой женщины-тореро Лидии и вскоре влюбляе...</td>\n",
       "      <td>Поговори, ней, 2002, Испания, друзья, любовь, сильные, женщины, преодоление, трудностей, отношения, дружба, отношения, паре, отношения, мужчины, женщины, романтические, отношения, потеря, близких,...</td>\n",
       "    </tr>\n",
       "    <tr>\n",
       "      <th>1</th>\n",
       "      <td>2508</td>\n",
       "      <td>film</td>\n",
       "      <td>Голые перцы</td>\n",
       "      <td>Search Party</td>\n",
       "      <td>2014.0</td>\n",
       "      <td>зарубежные, приключения, комедии</td>\n",
       "      <td>США</td>\n",
       "      <td>NaN</td>\n",
       "      <td>16.0</td>\n",
       "      <td>NaN</td>\n",
       "      <td>Скот Армстронг</td>\n",
       "      <td>Адам Палли, Брайан Хаски, Дж.Б. Смув, Джейсон Манцукас, Джон Глейсер, Карл Грин, Кристен Риттер, Лэнс Реддик, Морис Комт, Патрик Кернс, Ребекка Коллинз, Роза Салазар, Росс П. Кук, Стеффи Гроут, Ти...</td>\n",
       "      <td>Уморительная современная комедия на популярную тему о том, как не надо отмечать мальчишник. Главный герой усвоил, что не надо звать на свадьбу своего друга Джейсона, из-за которого он вместо сваде...</td>\n",
       "      <td>Голые, перцы, 2014, США, друзья, свадьбы, преодоление, трудностей, расставания, отношения, дружба, риск, недоразумение, мужская, дружба, мальчишники, девичники</td>\n",
       "    </tr>\n",
       "    <tr>\n",
       "      <th>15961</th>\n",
       "      <td>4538</td>\n",
       "      <td>series</td>\n",
       "      <td>Среди камней</td>\n",
       "      <td>Darklands</td>\n",
       "      <td>2019.0</td>\n",
       "      <td>драмы, спорт, криминал</td>\n",
       "      <td>Россия</td>\n",
       "      <td>0.0</td>\n",
       "      <td>18.0</td>\n",
       "      <td>NaN</td>\n",
       "      <td>Марк О’Коннор, Конор МакМахон</td>\n",
       "      <td>Дэйн Уайт О’Хара, Томас Кэйн-Бирн, Джудит Родди, Марк О’Халлоран, Джимми Смоллхорн</td>\n",
       "      <td>Семнадцатилетний Дэмиен мечтает вырваться за пределы своего района и стать профессиональным бойцом. Когда его кумир и старший брат исчезает, парень попадает в чуждый ему мир насилия, наркотиков и ...</td>\n",
       "      <td>Среди, камней, 2019, Россия</td>\n",
       "    </tr>\n",
       "    <tr>\n",
       "      <th>15962</th>\n",
       "      <td>3206</td>\n",
       "      <td>series</td>\n",
       "      <td>Гоша</td>\n",
       "      <td>NaN</td>\n",
       "      <td>2019.0</td>\n",
       "      <td>комедии</td>\n",
       "      <td>Россия</td>\n",
       "      <td>0.0</td>\n",
       "      <td>16.0</td>\n",
       "      <td>NaN</td>\n",
       "      <td>Михаил Миронов</td>\n",
       "      <td>Мкртыч Арзуманян, Виктория Рунцова</td>\n",
       "      <td>Добродушный Гоша не может выйти из дома, чтобы не попасть в нелепую и курьёзную историю. Но даже неудачники мечтают о любви, и наш герой — не исключение, ведь оптимизма ему не занимать.</td>\n",
       "      <td>Гоша, 2019, Россия</td>\n",
       "    </tr>\n",
       "  </tbody>\n",
       "</table>\n",
       "</div>"
      ],
      "text/plain": [
       "       item_id content_type           title      title_orig  release_year  \\\n",
       "0        10711         film  Поговори с ней  Hable con ella        2002.0   \n",
       "1         2508         film     Голые перцы    Search Party        2014.0   \n",
       "15961     4538       series    Среди камней      Darklands         2019.0   \n",
       "15962     3206       series            Гоша             NaN        2019.0   \n",
       "\n",
       "                                        genres countries  for_kids  \\\n",
       "0      драмы, зарубежные, детективы, мелодрамы   Испания       NaN   \n",
       "1             зарубежные, приключения, комедии       США       NaN   \n",
       "15961                   драмы, спорт, криминал    Россия       0.0   \n",
       "15962                                  комедии    Россия       0.0   \n",
       "\n",
       "       age_rating studios                      directors  \\\n",
       "0            16.0     NaN               Педро Альмодовар   \n",
       "1            16.0     NaN                 Скот Армстронг   \n",
       "15961        18.0     NaN  Марк О’Коннор, Конор МакМахон   \n",
       "15962        16.0     NaN                 Михаил Миронов   \n",
       "\n",
       "                                                                                                                                                                                                        actors  \\\n",
       "0      Адольфо Фернандес, Ана Фернандес, Дарио Грандинетти, Джеральдин Чаплин, Елена Анайя, Каэтано Велозо, Леонор Уотлинг, Лола Дуэньяс, Лолес Леон, Малу Айродо, Мариола Фуэнтес, Пас Вега, Пина Бауш, Ро...   \n",
       "1      Адам Палли, Брайан Хаски, Дж.Б. Смув, Джейсон Манцукас, Джон Глейсер, Карл Грин, Кристен Риттер, Лэнс Реддик, Морис Комт, Патрик Кернс, Ребекка Коллинз, Роза Салазар, Росс П. Кук, Стеффи Гроут, Ти...   \n",
       "15961                                                                                                                       Дэйн Уайт О’Хара, Томас Кэйн-Бирн, Джудит Родди, Марк О’Халлоран, Джимми Смоллхорн   \n",
       "15962                                                                                                                                                                       Мкртыч Арзуманян, Виктория Рунцова   \n",
       "\n",
       "                                                                                                                                                                                                   description  \\\n",
       "0      Мелодрама легендарного Педро Альмодовара «Поговори с ней» в 2003 году получила премию «Оскар» за лучший сценарий.  Журналист Марко берет интервью у знаменитой женщины-тореро Лидии и вскоре влюбляе...   \n",
       "1      Уморительная современная комедия на популярную тему о том, как не надо отмечать мальчишник. Главный герой усвоил, что не надо звать на свадьбу своего друга Джейсона, из-за которого он вместо сваде...   \n",
       "15961  Семнадцатилетний Дэмиен мечтает вырваться за пределы своего района и стать профессиональным бойцом. Когда его кумир и старший брат исчезает, парень попадает в чуждый ему мир насилия, наркотиков и ...   \n",
       "15962                Добродушный Гоша не может выйти из дома, чтобы не попасть в нелепую и курьёзную историю. Но даже неудачники мечтают о любви, и наш герой — не исключение, ведь оптимизма ему не занимать.   \n",
       "\n",
       "                                                                                                                                                                                                      keywords  \n",
       "0      Поговори, ней, 2002, Испания, друзья, любовь, сильные, женщины, преодоление, трудностей, отношения, дружба, отношения, паре, отношения, мужчины, женщины, романтические, отношения, потеря, близких,...  \n",
       "1                                              Голые, перцы, 2014, США, друзья, свадьбы, преодоление, трудностей, расставания, отношения, дружба, риск, недоразумение, мужская, дружба, мальчишники, девичники  \n",
       "15961                                                                                                                                                                              Среди, камней, 2019, Россия  \n",
       "15962                                                                                                                                                                                       Гоша, 2019, Россия  "
      ]
     },
     "execution_count": 13,
     "metadata": {},
     "output_type": "execute_result"
    }
   ],
   "source": [
    "pd.concat([items.head(2), items.tail(2)])"
   ]
  },
  {
   "cell_type": "code",
   "execution_count": 14,
   "id": "2bcfc0b6",
   "metadata": {},
   "outputs": [
    {
     "name": "stdout",
     "output_type": "stream",
     "text": [
      "Items dataframe shape (15963, 14)\n",
      "Unique item_id: 15_963\n"
     ]
    }
   ],
   "source": [
    "print(f\"Items dataframe shape {items.shape}\")\n",
    "print(f\"Unique item_id: {items['item_id'].nunique():_}\")"
   ]
  },
  {
   "cell_type": "code",
   "execution_count": 15,
   "id": "a90a45ca",
   "metadata": {},
   "outputs": [
    {
     "name": "stdout",
     "output_type": "stream",
     "text": [
      "Start date and last date of the test fold: (Timestamp('2021-08-08 00:00:00'), Timestamp('2021-08-22 00:00:00'))\n"
     ]
    }
   ],
   "source": [
    "# setting for cv \n",
    "# Ранее в другом ноутбуке удалось выяснить, что больше 1 фолда смысла брать нет. Метрика MAP больше не становится.\n",
    "# Поэтому возьмём 1 фолд.\n",
    "\n",
    "n_folds = 1\n",
    "unit = \"W\"\n",
    "n_units = 1\n",
    "\n",
    "last_date = interactions[Columns.Datetime].max().normalize()\n",
    "start_date = last_date - pd.Timedelta(n_folds * n_units + 1, unit=unit)  \n",
    "print(f\"Start date and last date of the test fold: {start_date, last_date}\")"
   ]
  },
  {
   "cell_type": "markdown",
   "id": "e6fdea8e",
   "metadata": {},
   "source": [
    "### Test fold borders"
   ]
  },
  {
   "cell_type": "code",
   "execution_count": 16,
   "id": "a0513172",
   "metadata": {},
   "outputs": [
    {
     "name": "stdout",
     "output_type": "stream",
     "text": [
      "start_date: 2021-08-08 00:00:00\n",
      "last_date: 2021-08-22 00:00:00\n",
      "periods: 2\n",
      "freq: 1W\n",
      "\n",
      "Test fold borders: ['2021-08-08' '2021-08-15']\n",
      "Real number of folds: 1\n"
     ]
    }
   ],
   "source": [
    "from rectools.model_selection import TimeRangeSplit\n",
    "\n",
    "periods = n_folds + 1\n",
    "freq = f\"{n_units}{unit}\"\n",
    "print(\n",
    "    f\"start_date: {start_date}\\n\"\n",
    "    f\"last_date: {last_date}\\n\"\n",
    "    f\"periods: {periods}\\n\"\n",
    "    f\"freq: {freq}\\n\"\n",
    ")\n",
    "    \n",
    "date_range = pd.date_range(start=start_date, periods=periods, freq=freq, tz=last_date.tz)\n",
    "print(f\"Test fold borders: {date_range.values.astype('datetime64[D]')}\")\n",
    "\n",
    "# generator of folds\n",
    "cv = TimeRangeSplit(\n",
    "    date_range=date_range,\n",
    "    filter_already_seen=True,\n",
    "    filter_cold_items=True,\n",
    "    filter_cold_users=True,\n",
    ")\n",
    "print(f\"Real number of folds: {cv.get_n_splits(interactions)}\")"
   ]
  },
  {
   "cell_type": "code",
   "execution_count": 17,
   "id": "250e7d27",
   "metadata": {},
   "outputs": [],
   "source": [
    "# Разобъем данные чтобы потом получить трейн и тест.\n",
    "\n",
    "(train_ids, test_ids, fold_info) = cv.split(interactions, collect_fold_stats=True).__next__()"
   ]
  },
  {
   "cell_type": "code",
   "execution_count": 18,
   "id": "60357cf7",
   "metadata": {},
   "outputs": [],
   "source": [
    "train = interactions.loc[train_ids].reset_index(drop=True)\n",
    "test = interactions.loc[test_ids].reset_index(drop=True)"
   ]
  },
  {
   "cell_type": "code",
   "execution_count": 19,
   "id": "556bba0e",
   "metadata": {},
   "outputs": [],
   "source": [
    "# Подготовим столбцы с жанром фильмов и возрастом пользователей.\n",
    "\n",
    "age_feature = (users[[\"user_id\", \"age\"]].rename({'user_id': 'id', 'age': 'value'}, axis=1))\n",
    "age_feature[\"feature\"] = \"age\"\n",
    "\n",
    "age_feature_train = age_feature[age_feature['id'].isin(train['user_id'])]\n",
    "age_feature_test = age_feature[age_feature['id'].isin(test['user_id'])]\n",
    "\n",
    "genres_feature = (items[[\"item_id\", \"genres\"]].rename({'item_id': 'id', 'genres': 'value'}, axis=1))\n",
    "genres_feature[\"value\"] = genres_feature[\"value\"].str.split(\",\")\n",
    "genres_feature = genres_feature.explode(\"value\")\n",
    "\n",
    "genres_feature[\"feature\"] = \"genres\"\n",
    "genres_feature_train = genres_feature[genres_feature['id'].isin(train['item_id'])]\n",
    "genres_feature_test = genres_feature[genres_feature['id'].isin(test['item_id'])]"
   ]
  },
  {
   "cell_type": "code",
   "execution_count": 20,
   "id": "ba9a4813",
   "metadata": {},
   "outputs": [],
   "source": [
    "# Создадим набор данных для обучения и теста.\n",
    "\n",
    "train_df = Dataset.construct(\n",
    "    train,\n",
    "    user_features_df=age_feature_train,\n",
    "    item_features_df=genres_feature_train,\n",
    "    cat_item_features=['genres'],\n",
    "    cat_user_features=['age']\n",
    "\n",
    ")\n",
    "test_df = Dataset.construct(\n",
    "    test,\n",
    "    user_features_df=age_feature_test,\n",
    "    item_features_df=genres_feature_test,\n",
    "    cat_item_features=['genres'],\n",
    "    cat_user_features=['age']\n",
    "\n",
    ")\n",
    "\n",
    "catalog = train['item_id'].unique()"
   ]
  },
  {
   "cell_type": "code",
   "execution_count": 21,
   "id": "fce4747a",
   "metadata": {},
   "outputs": [],
   "source": [
    "from rectools.metrics import Precision, Recall, MeanInvUserFreq, Serendipity, MAP, calc_metrics\n",
    "\n",
    "# calculate several classic (precision@k and recall@k) and \"beyond accuracy\" metrics\n",
    "metrics = {\n",
    "    \"prec@10\": Precision(k=10),\n",
    "    \"recall@10\": Recall(k=10),\n",
    "    \"novelty\": MeanInvUserFreq(k=10),\n",
    "    \"serendipity\": Serendipity(k=10),\n",
    "    \"MAP\": MAP(k=10)\n",
    "}"
   ]
  },
  {
   "cell_type": "code",
   "execution_count": 22,
   "id": "d07f350f",
   "metadata": {},
   "outputs": [],
   "source": [
    "# Обучим модель используя обертку ImplicitItemKNNWrapperModel.\n",
    "\n",
    "model_tfidf = ImplicitItemKNNWrapperModel(TFIDFRecommender(K=10))\n",
    "model_tfidf.fit(train_df)\n",
    "\n",
    "# Делаем предсказания.\n",
    "recos_tfidf = model_tfidf.recommend(users=train[Columns.User].unique(), dataset=train_df, k=10, filter_viewed=True)        "
   ]
  },
  {
   "cell_type": "code",
   "execution_count": 23,
   "id": "7d496ef4",
   "metadata": {},
   "outputs": [
    {
     "name": "stdout",
     "output_type": "stream",
     "text": [
      "Метрики для TFIDFRecommender:\n",
      " {'prec@10': 0.03379975093886684, 'recall@10': 0.16785348935940306, 'MAP': 0.07807385136643172, 'novelty': 7.445808587685584, 'serendipity': 2.45098049671506e-05}\n"
     ]
    }
   ],
   "source": [
    "# Вычислим значение метрик для первой модели.\n",
    "\n",
    "metric_tfidf = calc_metrics(metrics, reco=recos_tfidf, interactions=test, prev_interactions=train, catalog=catalog)\n",
    "\n",
    "print('Метрики для TFIDFRecommender:\\n', metric_tfidf)"
   ]
  },
  {
   "cell_type": "code",
   "execution_count": 24,
   "id": "8a9f02cc",
   "metadata": {},
   "outputs": [],
   "source": [
    "# Повторим обучение с оберткой для другой модели.\n",
    "\n",
    "model_cossim = ImplicitItemKNNWrapperModel(CosineRecommender(K=10))\n",
    "model_cossim.fit(train_df)\n",
    "\n",
    "recos_cossim = model_cossim.recommend(users=train[Columns.User].unique(), dataset=train_df, k=10, filter_viewed=True)"
   ]
  },
  {
   "cell_type": "code",
   "execution_count": 25,
   "id": "e1c0e922",
   "metadata": {},
   "outputs": [
    {
     "name": "stdout",
     "output_type": "stream",
     "text": [
      "Метрики для CosineRecommender:\n",
      " {'prec@10': 0.02291460341428734, 'recall@10': 0.11911154196285999, 'MAP': 0.05829229137022828, 'novelty': 9.589126024987257, 'serendipity': 1.4627631415420633e-05}\n"
     ]
    }
   ],
   "source": [
    "metric_cossim = calc_metrics(metrics, reco=recos_cossim, interactions=test, prev_interactions=train, catalog=catalog)\n",
    "\n",
    "print('Метрики для CosineRecommender:\\n', metric_cossim)"
   ]
  },
  {
   "cell_type": "code",
   "execution_count": 26,
   "id": "399fb543",
   "metadata": {},
   "outputs": [],
   "source": [
    "# Сохраним модели для того чтобы потом использовать их в сервисе и получать рекомендации на \"лету\".\n",
    "\n",
    "with open('cosine_itemknn_w.dill', 'wb') as f:\n",
    "    dill.dump(model_cossim, f)\n",
    "    \n",
    "with open('tfidf_itemknn_w.dill', 'wb') as f:\n",
    "    dill.dump(model_tfidf, f)    "
   ]
  },
  {
   "cell_type": "code",
   "execution_count": 27,
   "id": "5140f29c",
   "metadata": {},
   "outputs": [
    {
     "data": {
      "text/html": [
       "<div>\n",
       "<style scoped>\n",
       "    .dataframe tbody tr th:only-of-type {\n",
       "        vertical-align: middle;\n",
       "    }\n",
       "\n",
       "    .dataframe tbody tr th {\n",
       "        vertical-align: top;\n",
       "    }\n",
       "\n",
       "    .dataframe thead th {\n",
       "        text-align: right;\n",
       "    }\n",
       "</style>\n",
       "<table border=\"1\" class=\"dataframe\">\n",
       "  <thead>\n",
       "    <tr style=\"text-align: right;\">\n",
       "      <th></th>\n",
       "      <th>prec@10</th>\n",
       "      <th>recall@10</th>\n",
       "      <th>MAP</th>\n",
       "      <th>novelty</th>\n",
       "      <th>serendipity</th>\n",
       "    </tr>\n",
       "  </thead>\n",
       "  <tbody>\n",
       "    <tr>\n",
       "      <th>0</th>\n",
       "      <td>0.0338</td>\n",
       "      <td>0.167853</td>\n",
       "      <td>0.078074</td>\n",
       "      <td>7.445809</td>\n",
       "      <td>0.000025</td>\n",
       "    </tr>\n",
       "  </tbody>\n",
       "</table>\n",
       "</div>"
      ],
      "text/plain": [
       "   prec@10  recall@10       MAP   novelty  serendipity\n",
       "0   0.0338   0.167853  0.078074  7.445809     0.000025"
      ]
     },
     "execution_count": 27,
     "metadata": {},
     "output_type": "execute_result"
    }
   ],
   "source": [
    "# Посмотрим на метрики первой модели.\n",
    "\n",
    "df_metrics_tfidf = pd.DataFrame([metric_tfidf])\n",
    "df_metrics_tfidf"
   ]
  },
  {
   "cell_type": "code",
   "execution_count": 28,
   "id": "1c8fec00",
   "metadata": {},
   "outputs": [
    {
     "data": {
      "text/html": [
       "<div>\n",
       "<style scoped>\n",
       "    .dataframe tbody tr th:only-of-type {\n",
       "        vertical-align: middle;\n",
       "    }\n",
       "\n",
       "    .dataframe tbody tr th {\n",
       "        vertical-align: top;\n",
       "    }\n",
       "\n",
       "    .dataframe thead th {\n",
       "        text-align: right;\n",
       "    }\n",
       "</style>\n",
       "<table border=\"1\" class=\"dataframe\">\n",
       "  <thead>\n",
       "    <tr style=\"text-align: right;\">\n",
       "      <th></th>\n",
       "      <th>prec@10</th>\n",
       "      <th>recall@10</th>\n",
       "      <th>MAP</th>\n",
       "      <th>novelty</th>\n",
       "      <th>serendipity</th>\n",
       "    </tr>\n",
       "  </thead>\n",
       "  <tbody>\n",
       "    <tr>\n",
       "      <th>0</th>\n",
       "      <td>0.022915</td>\n",
       "      <td>0.119112</td>\n",
       "      <td>0.058292</td>\n",
       "      <td>9.589126</td>\n",
       "      <td>0.000015</td>\n",
       "    </tr>\n",
       "  </tbody>\n",
       "</table>\n",
       "</div>"
      ],
      "text/plain": [
       "    prec@10  recall@10       MAP   novelty  serendipity\n",
       "0  0.022915   0.119112  0.058292  9.589126     0.000015"
      ]
     },
     "execution_count": 28,
     "metadata": {},
     "output_type": "execute_result"
    }
   ],
   "source": [
    "# Посмотрим на метрики второй модели.\n",
    "\n",
    "df_metrics_cosine = pd.DataFrame([metric_cosine])\n",
    "df_metrics_cosine"
   ]
  }
 ],
 "metadata": {
  "kernelspec": {
   "display_name": "Python 3 (ipykernel)",
   "language": "python",
   "name": "python3"
  },
  "language_info": {
   "codemirror_mode": {
    "name": "ipython",
    "version": 3
   },
   "file_extension": ".py",
   "mimetype": "text/x-python",
   "name": "python",
   "nbconvert_exporter": "python",
   "pygments_lexer": "ipython3",
   "version": "3.8.13"
  }
 },
 "nbformat": 4,
 "nbformat_minor": 5
}
