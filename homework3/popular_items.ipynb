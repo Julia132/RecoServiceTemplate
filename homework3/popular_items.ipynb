{
 "cells": [
  {
   "cell_type": "code",
   "execution_count": 1,
   "id": "e6a9d3e8",
   "metadata": {},
   "outputs": [],
   "source": [
    "import pandas as pd\n",
    "import numpy as np\n",
    "from scipy.stats import mode \n",
    "import warnings\n",
    "warnings.filterwarnings(\"ignore\")\n",
    "import dill\n",
    "from rectools import Columns\n",
    "from rectools.dataset import Dataset"
   ]
  },
  {
   "cell_type": "code",
   "execution_count": 2,
   "id": "dec711da",
   "metadata": {},
   "outputs": [],
   "source": [
    "# Загружаем наши данные.\n",
    "\n",
    "interactions = pd.read_csv('kion_train/interactions.csv')\n",
    "users = pd.read_csv('kion_train/users.csv')\n",
    "items = pd.read_csv('kion_train/items.csv')"
   ]
  },
  {
   "cell_type": "code",
   "execution_count": 3,
   "id": "e179eb71",
   "metadata": {},
   "outputs": [
    {
     "name": "stdout",
     "output_type": "stream",
     "text": [
      "Unique users: 840_197\n"
     ]
    }
   ],
   "source": [
    "# Посмотрим на количество уникальных пользователей.\n",
    "\n",
    "print(f\"Unique users: {users['user_id'].nunique():_}\")\n",
    "n_users = users['user_id'].nunique()"
   ]
  },
  {
   "cell_type": "code",
   "execution_count": 4,
   "id": "8de6e4c1",
   "metadata": {},
   "outputs": [],
   "source": [
    "# Переименуем столбцы, сконвертируем столбец с датой и временем.\n",
    "\n",
    "interactions.rename(columns={'last_watch_dt': Columns.Datetime,\n",
    "                            'total_dur': Columns.Weight}, \n",
    "                    inplace=True) \n",
    "\n",
    "interactions['datetime'] = pd.to_datetime(interactions['datetime'])"
   ]
  },
  {
   "cell_type": "code",
   "execution_count": 5,
   "id": "f9125453",
   "metadata": {},
   "outputs": [
    {
     "data": {
      "text/html": [
       "<div>\n",
       "<style scoped>\n",
       "    .dataframe tbody tr th:only-of-type {\n",
       "        vertical-align: middle;\n",
       "    }\n",
       "\n",
       "    .dataframe tbody tr th {\n",
       "        vertical-align: top;\n",
       "    }\n",
       "\n",
       "    .dataframe thead th {\n",
       "        text-align: right;\n",
       "    }\n",
       "</style>\n",
       "<table border=\"1\" class=\"dataframe\">\n",
       "  <thead>\n",
       "    <tr style=\"text-align: right;\">\n",
       "      <th></th>\n",
       "      <th>id</th>\n",
       "      <th>value</th>\n",
       "      <th>feature</th>\n",
       "    </tr>\n",
       "  </thead>\n",
       "  <tbody>\n",
       "    <tr>\n",
       "      <th>0</th>\n",
       "      <td>10711</td>\n",
       "      <td>1983.0</td>\n",
       "      <td>release_year</td>\n",
       "    </tr>\n",
       "    <tr>\n",
       "      <th>1</th>\n",
       "      <td>2508</td>\n",
       "      <td>2012.0</td>\n",
       "      <td>release_year</td>\n",
       "    </tr>\n",
       "    <tr>\n",
       "      <th>2</th>\n",
       "      <td>10716</td>\n",
       "      <td>2009.0</td>\n",
       "      <td>release_year</td>\n",
       "    </tr>\n",
       "    <tr>\n",
       "      <th>3</th>\n",
       "      <td>7868</td>\n",
       "      <td>2014.0</td>\n",
       "      <td>release_year</td>\n",
       "    </tr>\n",
       "    <tr>\n",
       "      <th>4</th>\n",
       "      <td>16268</td>\n",
       "      <td>1897.0</td>\n",
       "      <td>release_year</td>\n",
       "    </tr>\n",
       "  </tbody>\n",
       "</table>\n",
       "</div>"
      ],
      "text/plain": [
       "      id   value       feature\n",
       "0  10711  1983.0  release_year\n",
       "1   2508  2012.0  release_year\n",
       "2  10716  2009.0  release_year\n",
       "3   7868  2014.0  release_year\n",
       "4  16268  1897.0  release_year"
      ]
     },
     "execution_count": 5,
     "metadata": {},
     "output_type": "execute_result"
    }
   ],
   "source": [
    "# Создаем датафрейм.\n",
    "\n",
    "_, bins = pd.qcut(items[\"release_year\"], 10, retbins=True)\n",
    "labels = bins[:-1]\n",
    "\n",
    "year_feature = pd.DataFrame(\n",
    "    {\n",
    "        \"id\": items[\"item_id\"],\n",
    "        \"value\": pd.cut(items[\"release_year\"], bins=bins, labels=bins[:-1]),\n",
    "        \"feature\": \"release_year\",\n",
    "    }\n",
    ")\n",
    "year_feature.head()"
   ]
  },
  {
   "cell_type": "code",
   "execution_count": 6,
   "id": "ab3ae9b1",
   "metadata": {},
   "outputs": [
    {
     "data": {
      "text/html": [
       "<div>\n",
       "<style scoped>\n",
       "    .dataframe tbody tr th:only-of-type {\n",
       "        vertical-align: middle;\n",
       "    }\n",
       "\n",
       "    .dataframe tbody tr th {\n",
       "        vertical-align: top;\n",
       "    }\n",
       "\n",
       "    .dataframe thead th {\n",
       "        text-align: right;\n",
       "    }\n",
       "</style>\n",
       "<table border=\"1\" class=\"dataframe\">\n",
       "  <thead>\n",
       "    <tr style=\"text-align: right;\">\n",
       "      <th></th>\n",
       "      <th>genre</th>\n",
       "      <th>genres</th>\n",
       "    </tr>\n",
       "  </thead>\n",
       "  <tbody>\n",
       "    <tr>\n",
       "      <th>0</th>\n",
       "      <td>[драмы,  зарубежные,  детективы,  мелодрамы]</td>\n",
       "      <td>драмы, зарубежные, детективы, мелодрамы</td>\n",
       "    </tr>\n",
       "    <tr>\n",
       "      <th>1</th>\n",
       "      <td>[зарубежные,  приключения,  комедии]</td>\n",
       "      <td>зарубежные, приключения, комедии</td>\n",
       "    </tr>\n",
       "    <tr>\n",
       "      <th>2</th>\n",
       "      <td>[криминал,  зарубежные,  триллеры,  боевики,  ...</td>\n",
       "      <td>криминал, зарубежные, триллеры, боевики, комедии</td>\n",
       "    </tr>\n",
       "  </tbody>\n",
       "</table>\n",
       "</div>"
      ],
      "text/plain": [
       "                                               genre  \\\n",
       "0       [драмы,  зарубежные,  детективы,  мелодрамы]   \n",
       "1               [зарубежные,  приключения,  комедии]   \n",
       "2  [криминал,  зарубежные,  триллеры,  боевики,  ...   \n",
       "\n",
       "                                             genres  \n",
       "0           драмы, зарубежные, детективы, мелодрамы  \n",
       "1                  зарубежные, приключения, комедии  \n",
       "2  криминал, зарубежные, триллеры, боевики, комедии  "
      ]
     },
     "execution_count": 6,
     "metadata": {},
     "output_type": "execute_result"
    }
   ],
   "source": [
    "# Сделаем список жанров для каждой строки датафрейма.\n",
    "\n",
    "items[\"genre\"] = items[\"genres\"].str.split(\",\")\n",
    "items[[\"genre\", \"genres\"]].head(3)"
   ]
  },
  {
   "cell_type": "code",
   "execution_count": 7,
   "id": "9a7e2ec8",
   "metadata": {},
   "outputs": [
    {
     "data": {
      "text/html": [
       "<div>\n",
       "<style scoped>\n",
       "    .dataframe tbody tr th:only-of-type {\n",
       "        vertical-align: middle;\n",
       "    }\n",
       "\n",
       "    .dataframe tbody tr th {\n",
       "        vertical-align: top;\n",
       "    }\n",
       "\n",
       "    .dataframe thead th {\n",
       "        text-align: right;\n",
       "    }\n",
       "</style>\n",
       "<table border=\"1\" class=\"dataframe\">\n",
       "  <thead>\n",
       "    <tr style=\"text-align: right;\">\n",
       "      <th></th>\n",
       "      <th>id</th>\n",
       "      <th>value</th>\n",
       "      <th>feature</th>\n",
       "    </tr>\n",
       "  </thead>\n",
       "  <tbody>\n",
       "    <tr>\n",
       "      <th>0</th>\n",
       "      <td>10711</td>\n",
       "      <td>драмы</td>\n",
       "      <td>genre</td>\n",
       "    </tr>\n",
       "    <tr>\n",
       "      <th>0</th>\n",
       "      <td>10711</td>\n",
       "      <td>зарубежные</td>\n",
       "      <td>genre</td>\n",
       "    </tr>\n",
       "    <tr>\n",
       "      <th>0</th>\n",
       "      <td>10711</td>\n",
       "      <td>детективы</td>\n",
       "      <td>genre</td>\n",
       "    </tr>\n",
       "    <tr>\n",
       "      <th>0</th>\n",
       "      <td>10711</td>\n",
       "      <td>мелодрамы</td>\n",
       "      <td>genre</td>\n",
       "    </tr>\n",
       "    <tr>\n",
       "      <th>1</th>\n",
       "      <td>2508</td>\n",
       "      <td>зарубежные</td>\n",
       "      <td>genre</td>\n",
       "    </tr>\n",
       "  </tbody>\n",
       "</table>\n",
       "</div>"
      ],
      "text/plain": [
       "      id        value feature\n",
       "0  10711        драмы   genre\n",
       "0  10711   зарубежные   genre\n",
       "0  10711    детективы   genre\n",
       "0  10711    мелодрамы   genre\n",
       "1   2508   зарубежные   genre"
      ]
     },
     "execution_count": 7,
     "metadata": {},
     "output_type": "execute_result"
    }
   ],
   "source": [
    "# Сделаем датафрейм с фильмами с указанием их жанров. \n",
    "\n",
    "genre_feature = items[[\"item_id\", \"genre\"]].explode(\"genre\")\n",
    "genre_feature.columns = [\"id\", \"value\"]\n",
    "genre_feature[\"feature\"] = \"genre\"\n",
    "genre_feature.head()"
   ]
  },
  {
   "cell_type": "code",
   "execution_count": 8,
   "id": "337d353c",
   "metadata": {},
   "outputs": [],
   "source": [
    "# Объединим два датафрейма с жанрами и годом выпуска.\n",
    "\n",
    "item_feat = pd.concat([genre_feature, year_feature])\n",
    "item_feat = item_feat[item_feat['id'].isin(interactions['item_id'])]"
   ]
  },
  {
   "cell_type": "code",
   "execution_count": 9,
   "id": "3f9d08cb",
   "metadata": {},
   "outputs": [],
   "source": [
    "dataset = Dataset.construct(\n",
    "    interactions_df=interactions,\n",
    "    user_features_df=None,\n",
    "    item_features_df=item_feat,\n",
    "    cat_item_features=['genre', 'release_year']\n",
    ")"
   ]
  },
  {
   "cell_type": "code",
   "execution_count": 10,
   "id": "bef80d75",
   "metadata": {},
   "outputs": [],
   "source": [
    "# Матрица из interactions.\n",
    "\n",
    "matrix = dataset.get_user_item_matrix()"
   ]
  },
  {
   "cell_type": "code",
   "execution_count": 11,
   "id": "d4584173",
   "metadata": {},
   "outputs": [],
   "source": [
    "# Функция позволяет получить фильмы, которые посмотрело указанное количетво пользователей.\n",
    "\n",
    "def get_top_items_covered_users(matrix, n_users=1000):\n",
    "    \n",
    "    assert matrix.format == 'csr'\n",
    "\n",
    "    item_set = []\n",
    "    covered_users = np.zeros(matrix.shape[0], dtype=bool) \n",
    "    while covered_users.sum() < n_users:\n",
    "        top_item = mode(matrix[~covered_users].indices)[0][0] \n",
    "        item_set.append(top_item)\n",
    "        covered_users += np.maximum.reduceat(matrix.indices==top_item, matrix.indptr[:-1], dtype=bool) \n",
    "    return item_set, covered_users"
   ]
  },
  {
   "cell_type": "code",
   "execution_count": 12,
   "id": "987aa53c",
   "metadata": {},
   "outputs": [],
   "source": [
    "item_set, covered_users = get_top_items_covered_users(matrix, n_users=n_users)"
   ]
  },
  {
   "cell_type": "code",
   "execution_count": 13,
   "id": "a7b17ddd",
   "metadata": {},
   "outputs": [
    {
     "data": {
      "text/plain": [
       "array([10440, 15297,  9728, 13865,  2657,  4151,  3734,  6809,  4740,\n",
       "        4880,  7571, 11237,  8636, 14741,  1844,   142, 14431,  7793,\n",
       "       12173,  9996, 12192, 11863, 16166,   849,  4436, 12360, 13018,\n",
       "        4685,   101,  4495,  4457,   341, 14317,  1819,  7107,  3182,\n",
       "       16228,  1916,  7626, 14703,  7829, 16361,  7102,  3076,  6192,\n",
       "       13935, 15078,   512, 14470, 11310,  1465, 12501, 12995,  8314,\n",
       "          24, 15464,  7417,  5411,  9169,  6006,  1554,  2720,  1978,\n",
       "        3784, 14359,  5658, 10942,  6166, 10821,  4718, 12463,  5693,\n",
       "        4382,  5732,   741,  5434, 10772, 10464, 14526, 11756, 15399,\n",
       "       14488,  3935,  1399,    14,  1449, 12228,  2722,  3402, 12356,\n",
       "         496, 14899, 13159, 14461,  1132,  8618,  5023, 11754, 14901,\n",
       "       12974, 14245, 16270,  7854,  8270,  1287,  4475, 15199,  6402,\n",
       "       14120,   657,  1290, 12623,   931, 10732, 16509, 12981,  5471,\n",
       "       10761,  3804, 13915,  1445,  1053, 11312, 12743, 10077, 13262,\n",
       "       10073,  7476,  5250,  5543,  9070, 10755,  7582, 12537, 15997,\n",
       "       15531, 16201,  1204,  6162, 12133,  1626,  8447,  3095, 11778,\n",
       "        2956, 13861, 12770,  4689,  2858, 15266,  1131,  1173,  2301,\n",
       "        6646,  8373,  4400,  5424, 13849,  9342,  6939,  9986,  9164,\n",
       "       11640, 13955,  8663, 13411, 10281,  9194, 12225, 10878,  4946,\n",
       "        3071, 12396, 12841, 15915,  4260, 12324, 15706, 10436, 11697,\n",
       "       15942, 11769,  4702, 16291, 15679, 11654,  9811,  7210,  2220,\n",
       "        4912, 16447,  7310, 11322, 12132,  2358, 12149,  9937, 14266,\n",
       "         598,  7662,  7713,  6968, 10353,  8580, 11118, 13243, 10240,\n",
       "       12820,  5398,  9612, 12965, 13653,  5669,  6086,  1562,  7825,\n",
       "        6050,  6443,  5791,  4716, 10824, 11749, 11047, 12275,  6382,\n",
       "        4218, 10219, 10680, 10411], dtype=int64)"
      ]
     },
     "execution_count": 13,
     "metadata": {},
     "output_type": "execute_result"
    }
   ],
   "source": [
    "# Список популярных фильмов.\n",
    "\n",
    "pop_covered = dataset.item_id_map.convert_to_external(item_set) \n",
    "pop_covered"
   ]
  },
  {
   "cell_type": "code",
   "execution_count": 16,
   "id": "cc93b57b",
   "metadata": {},
   "outputs": [],
   "source": [
    "# Сохраним список популярных фильмов в файл. Он пригодится нам в дальнейшем.\n",
    "# Будем дополнять из него рекомендации на лету, если модель выдаст меньше необходимого числа рекомендаций.\n",
    "\n",
    "with open('pop_covered.dill', 'wb') as f:\n",
    "    dill.dump(pop_covered, f)"
   ]
  },
  {
   "cell_type": "code",
   "execution_count": 1,
   "id": "0c1597b2",
   "metadata": {},
   "outputs": [],
   "source": [
    "# Между прочим, если отправить на лидерборд 10 самых популярных фильмов, то получим \n",
    "# 0.0870782233026136 по метрике MAP."
   ]
  },
  {
   "attachments": {
    "image.png": {
     "image/png": "[encoded data removed]"
    }
   },
   "cell_type": "markdown",
   "id": "fb6c5207",
   "metadata": {},
   "source": [
    "![image.png](attachment:image.png)"
   ]
  },
  {
   "cell_type": "code",
   "execution_count": null,
   "id": "e98f75b2",
   "metadata": {},
   "outputs": [],
   "source": []
  }
 ],
 "metadata": {
  "kernelspec": {
   "display_name": "Python 3 (ipykernel)",
   "language": "python",
   "name": "python3"
  },
  "language_info": {
   "codemirror_mode": {
    "name": "ipython",
    "version": 3
   },
   "file_extension": ".py",
   "mimetype": "text/x-python",
   "name": "python",
   "nbconvert_exporter": "python",
   "pygments_lexer": "ipython3",
   "version": "3.8.13"
  }
 },
 "nbformat": 4,
 "nbformat_minor": 5
}
