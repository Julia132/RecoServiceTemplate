{
 "cells": [
  {
   "cell_type": "code",
   "execution_count": 1,
   "id": "93a0b8a2",
   "metadata": {},
   "outputs": [],
   "source": [
    "import copy\n",
    "import pandas as pd\n",
    "import numpy as np\n",
    "import dill"
   ]
  },
  {
   "cell_type": "code",
   "execution_count": 2,
   "id": "a5bfdddb",
   "metadata": {},
   "outputs": [],
   "source": [
    "# Загрузим ранее сохранённые модели.\n",
    "\n",
    "with open('cosine_itemknn.dill', 'rb') as f:\n",
    "    cosine_model = dill.load(f)\n",
    "\n",
    "with open('tfidf_itemknn.dill', 'rb') as f:\n",
    "    tfidf_model = dill.load(f)"
   ]
  },
  {
   "cell_type": "code",
   "execution_count": 3,
   "id": "0ed3b45e",
   "metadata": {},
   "outputs": [
    {
     "name": "stdout",
     "output_type": "stream",
     "text": [
      "[]\n",
      "Количество рекомендаций равно  0\n",
      "[(258881, 0.5000000000000001), (380661, 0.4564354645876385), (184380, 0.4364357804719848), (179578, 0.4330127018922194), (203954, 0.4330127018922194), (457108, 0.4330127018922194), (733146, 0.408248290463863), (738721, 0.408248290463863), (753643, 0.408248290463863), (757205, 0.408248290463863)]\n",
      "Количество рекомендаций равно  10\n"
     ]
    }
   ],
   "source": [
    "# Проверим, что модели после загрузки работают.\n",
    "# Первый пользователь в списке мужчина, второй женщина.\n",
    "\n",
    "users = [973171, 339025]\n",
    "N = 10\n",
    "\n",
    "for user in users:\n",
    "    recs = cosine_model.similar_items(user, N+1)[1:]\n",
    "    print(recs)\n",
    "    print(\"Количество рекомендаций равно \", len(recs))"
   ]
  },
  {
   "cell_type": "code",
   "execution_count": 4,
   "id": "67cfef8d",
   "metadata": {},
   "outputs": [
    {
     "name": "stdout",
     "output_type": "stream",
     "text": [
      "[]\n",
      "Количество рекомендаций равно  0\n",
      "[(676587, 0.43861246223725653), (706597, 0.43861246223725653), (184380, 0.42254378698030776), (26101, 0.39647951930592784), (411917, 0.39647951930592784), (386056, 0.3943725017447922), (258881, 0.3920982224014373), (417974, 0.38493645852996816), (732902, 0.381682290375738), (228806, 0.3716081338158115)]\n",
      "Количество рекомендаций равно  10\n"
     ]
    }
   ],
   "source": [
    "for user in users:\n",
    "    recs = tfidf_model.similar_items(user, N+1)[1:]\n",
    "    print(recs)\n",
    "    print(\"Количество рекомендаций равно \", len(recs))"
   ]
  },
  {
   "cell_type": "code",
   "execution_count": 5,
   "id": "d7ce3fd1",
   "metadata": {},
   "outputs": [
    {
     "name": "stdout",
     "output_type": "stream",
     "text": [
      "[10440 15297  9728 13865  2657  4151  3734  6809  4740  4880  7571 11237\n",
      "  8636 14741  1844   142 14431  7793 12173  9996 12192 11863 16166   849\n",
      "  4436 12360 13018  4685   101  4495  4457   341 14317  1819  7107  3182\n",
      " 16228  1916  7626 14703  7829 16361  7102  3076  6192 13935 15078   512\n",
      " 14470 11310  1465 12501 12995  8314    24 15464  7417  5411  9169  6006\n",
      "  1554  2720  1978  3784 14359  5658 10942  6166 10821  4718 12463  5693\n",
      "  4382  5732   741  5434 10772 10464 14526 11756 15399 14488  3935  1399\n",
      "    14  1449 12228  2722  3402 12356   496 14899 13159 14461  1132  8618\n",
      "  5023 11754 14901 12974 14245 16270  7854  8270  1287  4475 15199  6402\n",
      " 14120   657  1290 12623   931 10732 16509 12981  5471 10761  3804 13915\n",
      "  1445  1053 11312 12743 10077 13262 10073  7476  5250  5543  9070 10755\n",
      "  7582 12537 15997 15531 16201  1204  6162 12133  1626  8447  3095 11778\n",
      "  2956 13861 12770  4689  2858 15266  1131  1173  2301  6646  8373  4400\n",
      "  5424 13849  9342  6939  9986  9164 11640 13955  8663 13411 10281  9194\n",
      " 12225 10878  4946  3071 12396 12841 15915  4260 12324 15706 10436 11697\n",
      " 15942 11769  4702 16291 15679 11654  9811  7210  2220  4912 16447  7310\n",
      " 11322 12132  2358 12149  9937 14266   598  7662  7713  6968 10353  8580\n",
      " 11118 13243 10240 12820  5398  9612 12965 13653  5669  6086  1562  7825\n",
      "  6050  6443  5791  4716 10824 11749 11047 12275  6382  4218 10219 10680\n",
      " 10411]\n"
     ]
    }
   ],
   "source": [
    "# Видим, что иногда модель ничего не выдает для пользователя.\n",
    "# Для таких случаев воспользуемся наиболее популярными фильмами список которых создавался в другом ноутбуке.\n",
    "\n",
    "# Функция ищет разницу между двумя списками. Таким образом не допускаем повторения в рекомендациях. \n",
    "def find_difference(recs, pop_covered):\n",
    "\n",
    "    list_difference = [element for element in pop_covered if element not in recs]\n",
    "    \n",
    "    return list_difference\n",
    "\n",
    "\n",
    "# Функция проверяет, что в выдаче не менее N элементов.\n",
    "# Если их меньше, то недостающие она берет из списка наиболее популярных фильмов.\n",
    "# Перед этим идёт проверка чтобы элементы из списка популярных не задваивали уже имеющиеся в выдаче модели. \n",
    "\n",
    "def compliment(recs, pop_covered):\n",
    "    \n",
    "    rec = [element[0] for element in recs]\n",
    "    \n",
    "    result = []\n",
    "    if len(rec) < 10:\n",
    "        diff = find_difference(rec, pop_covered)\n",
    "        for i in range(10-len(rec)):\n",
    "            result.append(diff[i])\n",
    "    else:\n",
    "        result = rec\n",
    "    \n",
    "    return result\n",
    "\n",
    "\n",
    "# Посмотрим на список самых популярных фильмов. Загрузим их из ранее созданного в другом ноутбуке файла.\n",
    "with open('pop_covered.dill', 'rb') as f:\n",
    "    pop_covered = dill.load(f)\n",
    "    \n",
    "print(pop_covered) "
   ]
  },
  {
   "cell_type": "code",
   "execution_count": 6,
   "id": "33620402",
   "metadata": {},
   "outputs": [
    {
     "name": "stdout",
     "output_type": "stream",
     "text": [
      "[]\n",
      "Количество рекомендаций равно  0\n",
      "\n",
      "Рекомендации после дополнения  [10440, 15297, 9728, 13865, 2657, 4151, 3734, 6809, 4740, 4880]  Количество рекомендаций равно  10\n"
     ]
    }
   ],
   "source": [
    "# Теперь снова попробуем получить рекомендации для пользователя по которому выдавался 0. Добавим ему самые популярные фильмы.\n",
    "\n",
    "recs = cosine_model.similar_items(973171, N+1)[1:]\n",
    "print(recs)\n",
    "print(\"Количество рекомендаций равно \", len(recs))\n",
    "print()\n",
    "print(\"Рекомендации после дополнения \", compliment(recs, pop_covered), \" Количество рекомендаций равно \", len(compliment(recs, pop_covered)))"
   ]
  },
  {
   "cell_type": "code",
   "execution_count": 7,
   "id": "232c19bc",
   "metadata": {},
   "outputs": [
    {
     "name": "stdout",
     "output_type": "stream",
     "text": [
      "Вывод первой модели  [258881, 380661, 184380, 179578, 203954, 457108, 733146, 738721, 753643, 757205]\n",
      "Вывод второй модели  [676587, 706597, 184380, 26101, 411917, 386056, 258881, 417974, 732902, 228806]\n",
      "Блендинг обеих моделей  [258881, 380661, 676587, 706597, 184380, 179578, 203954, 457108, 733146, 738721]\n"
     ]
    }
   ],
   "source": [
    "# Теперь попробуем блендинг двух моделей.\n",
    "# Сделаем простой вариант блендинга. Объединим выдачу обеих моделей,\n",
    "# отсортируем по убыванию по вторым элементам кортежей и потом возьмём первые 10 элементов.\n",
    "\n",
    "def blending(model_1, model_2, user, N, pop_covered):\n",
    "        \n",
    "    recs_1 = model_1.similar_items(user, N + 1)[1:]\n",
    "    recs_2 = model_2.similar_items(user, N + 1)[1:]\n",
    "    recs = recs_1 + recs_2\n",
    "\n",
    "    if len(recs)> 0:\n",
    "        recs.sort(key=lambda x: x[1], reverse=True)\n",
    "        recs_sort = [element[0] for element in recs]\n",
    "        recs_one = []\n",
    "        my_set = set()\n",
    "\n",
    "        for element in recs_sort:\n",
    "            if element not in my_set:\n",
    "                recs_one.append(element)\n",
    "                my_set.add(element)\n",
    "        \n",
    "        if len(recs_one) >= N:\n",
    "            result = recs_one[:10]\n",
    "        else:\n",
    "            result = recs_one\n",
    "            diff = find_difference(recs_one, pop_covered)\n",
    "            for i in range(10 - len(recs_one)):\n",
    "\n",
    "                result.append(diff[i])\n",
    "\n",
    "    else:\n",
    "        result = pop_covered[:10]\n",
    "    \n",
    "    return result        \n",
    "        \n",
    "\n",
    "print(\"Вывод первой модели \", [element[0] for element in cosine_model.similar_items(339025, N+1)[1:]] )    \n",
    "print(\"Вывод второй модели \", [element[0] for element in tfidf_model.similar_items(339025, N+1)[1:]])    \n",
    "print(\"Блендинг обеих моделей \", blending(cosine_model, tfidf_model, 339025, N, pop_covered))    "
   ]
  },
  {
   "cell_type": "code",
   "execution_count": null,
   "id": "777b70d6",
   "metadata": {},
   "outputs": [],
   "source": []
  }
 ],
 "metadata": {
  "kernelspec": {
   "display_name": "Python 3 (ipykernel)",
   "language": "python",
   "name": "python3"
  },
  "language_info": {
   "codemirror_mode": {
    "name": "ipython",
    "version": 3
   },
   "file_extension": ".py",
   "mimetype": "text/x-python",
   "name": "python",
   "nbconvert_exporter": "python",
   "pygments_lexer": "ipython3",
   "version": "3.8.13"
  }
 },
 "nbformat": 4,
 "nbformat_minor": 5
}
